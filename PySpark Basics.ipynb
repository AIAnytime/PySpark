{
 "cells": [
  {
   "cell_type": "markdown",
   "id": "intense-illinois",
   "metadata": {},
   "source": [
    "## Introduction to PySpark\n",
    "\n",
    "- **Spark** is a unified analytics engine for **large-scale data preprocessing.**\n",
    "- PySpark is just a **python wrapper around the Spark**.\n",
    "\n",
    "![PySpark](https://databricks.com/wp-content/uploads/2018/12/PySpark-1024x164.png)\n",
    "\n",
    "Let's c the Spark Ecosystem by a below example:\n",
    "![Spark](https://d1m75rqqgidzqn.cloudfront.net/wp-data/2020/08/14133246/Image-recreation-for-articles-A4-06-1-1024x578.jpg)\n",
    "\n",
    "Key Data Structures in the Spark API:\n",
    "**RDD (Resilient Distributed dataset) :- Transformations and Actions**\n",
    "\n",
    "PySpark:\n",
    "\n",
    "- 1. PySpark.ML (Dataframe, Current)\n",
    "- 2. PySpark.MLlib (RDD, legacy)\n",
    "\n",
    "![PySpark Pipeline](https://intellipaat.com/mediaFiles/2019/02/MLlib-algorithms.png)"
   ]
  },
  {
   "cell_type": "markdown",
   "id": "modular-stamp",
   "metadata": {},
   "source": [
    "## Public classes:\n",
    "\n",
    "- SparkContext\n",
    "**Main entry point for Spark functionality.**\n",
    "\n",
    "A SparkContext represents the connection to **a Spark cluster, and can be used to create RDD and broadcast variables on that cluster.**"
   ]
  },
  {
   "cell_type": "code",
   "execution_count": 3,
   "id": "favorite-adams",
   "metadata": {},
   "outputs": [],
   "source": [
    "from pyspark import SparkContext"
   ]
  },
  {
   "cell_type": "code",
   "execution_count": 4,
   "id": "front-evanescence",
   "metadata": {},
   "outputs": [],
   "source": [
    "#create the spark context session (I have 8 cpu in my system, i will use 2 of them.)\n",
    "sc = SparkContext(master = 'local[2]')"
   ]
  },
  {
   "cell_type": "code",
   "execution_count": 5,
   "id": "valid-basis",
   "metadata": {},
   "outputs": [
    {
     "data": {
      "text/html": [
       "\n",
       "        <div>\n",
       "            <p><b>SparkContext</b></p>\n",
       "\n",
       "            <p><a href=\"http://192.168.43.16:4040\">Spark UI</a></p>\n",
       "\n",
       "            <dl>\n",
       "              <dt>Version</dt>\n",
       "                <dd><code>v3.0.2</code></dd>\n",
       "              <dt>Master</dt>\n",
       "                <dd><code>local[2]</code></dd>\n",
       "              <dt>AppName</dt>\n",
       "                <dd><code>pyspark-shell</code></dd>\n",
       "            </dl>\n",
       "        </div>\n",
       "        "
      ],
      "text/plain": [
       "<SparkContext master=local[2] appName=pyspark-shell>"
      ]
     },
     "execution_count": 5,
     "metadata": {},
     "output_type": "execute_result"
    }
   ],
   "source": [
    "#if you want to see what's going behind the scene, we can use SPARK UI on web to track \n",
    "sc"
   ]
  },
  {
   "cell_type": "markdown",
   "id": "german-bosnia",
   "metadata": {},
   "source": [
    "### Basics of PySpark and it's different functions"
   ]
  },
  {
   "cell_type": "code",
   "execution_count": 6,
   "id": "suffering-backing",
   "metadata": {},
   "outputs": [],
   "source": [
    "import pyspark"
   ]
  },
  {
   "cell_type": "code",
   "execution_count": 7,
   "id": "growing-blind",
   "metadata": {},
   "outputs": [
    {
     "data": {
      "text/plain": [
       "['Accumulator',\n",
       " 'AccumulatorParam',\n",
       " 'BarrierTaskContext',\n",
       " 'BarrierTaskInfo',\n",
       " 'BasicProfiler',\n",
       " 'Broadcast',\n",
       " 'HiveContext',\n",
       " 'MarshalSerializer',\n",
       " 'PickleSerializer',\n",
       " 'Profiler',\n",
       " 'RDD',\n",
       " 'RDDBarrier',\n",
       " 'Row',\n",
       " 'SQLContext',\n",
       " 'SparkConf',\n",
       " 'SparkContext',\n",
       " 'SparkFiles',\n",
       " 'SparkJobInfo',\n",
       " 'SparkStageInfo',\n",
       " 'StatusTracker',\n",
       " 'StorageLevel',\n",
       " 'TaskContext',\n",
       " '_NoValue',\n",
       " '__all__',\n",
       " '__builtins__',\n",
       " '__cached__',\n",
       " '__doc__',\n",
       " '__file__',\n",
       " '__loader__',\n",
       " '__name__',\n",
       " '__package__',\n",
       " '__path__',\n",
       " '__spec__',\n",
       " '__version__',\n",
       " '_globals',\n",
       " 'accumulators',\n",
       " 'broadcast',\n",
       " 'cloudpickle',\n",
       " 'conf',\n",
       " 'context',\n",
       " 'copy_func',\n",
       " 'files',\n",
       " 'find_spark_home',\n",
       " 'heapq3',\n",
       " 'java_gateway',\n",
       " 'join',\n",
       " 'keyword_only',\n",
       " 'profiler',\n",
       " 'rdd',\n",
       " 'rddsampler',\n",
       " 'resource',\n",
       " 'resultiterable',\n",
       " 'serializers',\n",
       " 'shuffle',\n",
       " 'since',\n",
       " 'sql',\n",
       " 'statcounter',\n",
       " 'status',\n",
       " 'storagelevel',\n",
       " 'taskcontext',\n",
       " 'traceback_utils',\n",
       " 'types',\n",
       " 'util',\n",
       " 'version',\n",
       " 'wraps']"
      ]
     },
     "execution_count": 7,
     "metadata": {},
     "output_type": "execute_result"
    }
   ],
   "source": [
    "dir(pyspark)"
   ]
  },
  {
   "cell_type": "markdown",
   "id": "reported-majority",
   "metadata": {},
   "source": [
    "#### The entry point to programming Spark with the Dataset and DataFrame API.\n",
    "\n",
    "class pyspark.sql.SparkSession(sparkContext, jsparkSession=None)\n",
    "\n",
    "A SparkSession can be used to create DataFrame, register DataFrame as tables, execute SQL over tables, cache tables, and read parquet files. To create a SparkSession, use the following builder pattern:\n",
    "\n",
    "spark = SparkSession.builder \\\n",
    "    .master(\"local\") \\\n",
    "    .appName(\"Word Count\") \\\n",
    "    .config(\"spark.some.config.option\", \"some-value\") \\\n",
    "    .getOrCreate()"
   ]
  },
  {
   "cell_type": "code",
   "execution_count": 8,
   "id": "modular-suspension",
   "metadata": {},
   "outputs": [],
   "source": [
    "#Deal with SQL\n",
    "\n",
    "from pyspark.sql import SparkSession"
   ]
  },
  {
   "cell_type": "code",
   "execution_count": 9,
   "id": "steady-palestinian",
   "metadata": {},
   "outputs": [],
   "source": [
    "#create a spark session i.e. the entry point\n",
    "\n",
    "spark = SparkSession.builder.appName(\"pyspark basics\").getOrCreate()"
   ]
  },
  {
   "cell_type": "code",
   "execution_count": 12,
   "id": "supposed-ocean",
   "metadata": {},
   "outputs": [],
   "source": [
    "# read a dataframe in csv without header/schema\n",
    "\n",
    "data = spark.read.csv(\"dataset/hepatitis.csv\")"
   ]
  },
  {
   "cell_type": "code",
   "execution_count": 13,
   "id": "abroad-smart",
   "metadata": {},
   "outputs": [
    {
     "name": "stdout",
     "output_type": "stream",
     "text": [
      "+---+------+-------+----------+-------+-------+--------+---------+----------+---------------+-------+-------+-------+---------+-------------+----+-------+-------+---------+-----+\n",
      "|_c0|   _c1|    _c2|       _c3|    _c4|    _c5|     _c6|      _c7|       _c8|            _c9|   _c10|   _c11|   _c12|     _c13|         _c14|_c15|   _c16|   _c17|     _c18| _c19|\n",
      "+---+------+-------+----------+-------+-------+--------+---------+----------+---------------+-------+-------+-------+---------+-------------+----+-------+-------+---------+-----+\n",
      "|age|   sex|steroid|antivirals|fatigue|malaise|anorexia|liver_big|liver_firm|spleen_palpable|spiders|ascites|varices|bilirubin|alk_phosphate|sgot|albumin|protime|histology|class|\n",
      "| 30|  male|  False|     False|  False|  False|   False|    False|     False|          False|  False|  False|  False|        1|           85|  18|      4|   null|    False| live|\n",
      "| 50|female|  False|     False|   True|  False|   False|    False|     False|          False|  False|  False|  False|      0.9|          135|  42|    3.5|   null|    False| live|\n",
      "| 78|female|   True|     False|   True|  False|   False|     True|     False|          False|  False|  False|  False|      0.7|           96|  32|      4|   null|    False| live|\n",
      "| 31|female|   null|      True|  False|  False|   False|     True|     False|          False|  False|  False|  False|      0.7|           46|  52|      4|     80|    False| live|\n",
      "| 34|female|   True|     False|  False|  False|   False|     True|     False|          False|  False|  False|  False|        1|         null| 200|      4|   null|    False| live|\n",
      "| 34|female|   True|     False|  False|  False|   False|     True|     False|          False|  False|  False|  False|      0.9|           95|  28|      4|     75|    False| live|\n",
      "| 51|female|  False|     False|   True|  False|    True|     True|     False|           True|   True|  False|  False|     null|         null|null|   null|   null|    False|  die|\n",
      "| 23|female|   True|     False|  False|  False|   False|     True|     False|          False|  False|  False|  False|        1|         null|null|   null|   null|    False| live|\n",
      "| 39|female|   True|     False|   True|  False|   False|     True|      True|          False|  False|  False|  False|      0.7|         null|  48|    4.4|   null|    False| live|\n",
      "+---+------+-------+----------+-------+-------+--------+---------+----------+---------------+-------+-------+-------+---------+-------------+----+-------+-------+---------+-----+\n",
      "only showing top 10 rows\n",
      "\n"
     ]
    }
   ],
   "source": [
    "#let's view the dataset\n",
    "\n",
    "data.show(10)"
   ]
  },
  {
   "cell_type": "code",
   "execution_count": 14,
   "id": "specialized-parent",
   "metadata": {},
   "outputs": [],
   "source": [
    "new_data = spark.read.csv(\"dataset/hepatitis.csv\", header=True)"
   ]
  },
  {
   "cell_type": "code",
   "execution_count": 15,
   "id": "modular-greeting",
   "metadata": {},
   "outputs": [
    {
     "name": "stdout",
     "output_type": "stream",
     "text": [
      "+---+------+-------+----------+-------+-------+--------+---------+----------+---------------+-------+-------+-------+---------+-------------+----+-------+-------+---------+-----+\n",
      "|age|   sex|steroid|antivirals|fatigue|malaise|anorexia|liver_big|liver_firm|spleen_palpable|spiders|ascites|varices|bilirubin|alk_phosphate|sgot|albumin|protime|histology|class|\n",
      "+---+------+-------+----------+-------+-------+--------+---------+----------+---------------+-------+-------+-------+---------+-------------+----+-------+-------+---------+-----+\n",
      "| 30|  male|  False|     False|  False|  False|   False|    False|     False|          False|  False|  False|  False|        1|           85|  18|      4|   null|    False| live|\n",
      "| 50|female|  False|     False|   True|  False|   False|    False|     False|          False|  False|  False|  False|      0.9|          135|  42|    3.5|   null|    False| live|\n",
      "| 78|female|   True|     False|   True|  False|   False|     True|     False|          False|  False|  False|  False|      0.7|           96|  32|      4|   null|    False| live|\n",
      "| 31|female|   null|      True|  False|  False|   False|     True|     False|          False|  False|  False|  False|      0.7|           46|  52|      4|     80|    False| live|\n",
      "| 34|female|   True|     False|  False|  False|   False|     True|     False|          False|  False|  False|  False|        1|         null| 200|      4|   null|    False| live|\n",
      "+---+------+-------+----------+-------+-------+--------+---------+----------+---------------+-------+-------+-------+---------+-------------+----+-------+-------+---------+-----+\n",
      "only showing top 5 rows\n",
      "\n"
     ]
    }
   ],
   "source": [
    "new_data.show(5)"
   ]
  },
  {
   "cell_type": "code",
   "execution_count": 16,
   "id": "rental-savings",
   "metadata": {},
   "outputs": [
    {
     "data": {
      "text/plain": [
       "Row(age='30', sex='male', steroid='False', antivirals='False', fatigue='False', malaise='False', anorexia='False', liver_big='False', liver_firm='False', spleen_palpable='False', spiders='False', ascites='False', varices='False', bilirubin='1', alk_phosphate='85', sgot='18', albumin='4', protime=None, histology='False', class='live')"
      ]
     },
     "execution_count": 16,
     "metadata": {},
     "output_type": "execute_result"
    }
   ],
   "source": [
    "# Get first row\n",
    "new_data.first()"
   ]
  },
  {
   "cell_type": "code",
   "execution_count": 17,
   "id": "checked-jacksonville",
   "metadata": {},
   "outputs": [
    {
     "data": {
      "text/plain": [
       "[Row(age='30', sex='male', steroid='False', antivirals='False', fatigue='False', malaise='False', anorexia='False', liver_big='False', liver_firm='False', spleen_palpable='False', spiders='False', ascites='False', varices='False', bilirubin='1', alk_phosphate='85', sgot='18', albumin='4', protime=None, histology='False', class='live'),\n",
       " Row(age='50', sex='female', steroid='False', antivirals='False', fatigue='True', malaise='False', anorexia='False', liver_big='False', liver_firm='False', spleen_palpable='False', spiders='False', ascites='False', varices='False', bilirubin='0.9', alk_phosphate='135', sgot='42', albumin='3.5', protime=None, histology='False', class='live'),\n",
       " Row(age='78', sex='female', steroid='True', antivirals='False', fatigue='True', malaise='False', anorexia='False', liver_big='True', liver_firm='False', spleen_palpable='False', spiders='False', ascites='False', varices='False', bilirubin='0.7', alk_phosphate='96', sgot='32', albumin='4', protime=None, histology='False', class='live'),\n",
       " Row(age='31', sex='female', steroid=None, antivirals='True', fatigue='False', malaise='False', anorexia='False', liver_big='True', liver_firm='False', spleen_palpable='False', spiders='False', ascites='False', varices='False', bilirubin='0.7', alk_phosphate='46', sgot='52', albumin='4', protime='80', histology='False', class='live'),\n",
       " Row(age='34', sex='female', steroid='True', antivirals='False', fatigue='False', malaise='False', anorexia='False', liver_big='True', liver_firm='False', spleen_palpable='False', spiders='False', ascites='False', varices='False', bilirubin='1', alk_phosphate=None, sgot='200', albumin='4', protime=None, histology='False', class='live')]"
      ]
     },
     "execution_count": 17,
     "metadata": {},
     "output_type": "execute_result"
    }
   ],
   "source": [
    "# get first 5 rows (use head like pandas)\n",
    "\n",
    "new_data.head(5)"
   ]
  },
  {
   "cell_type": "code",
   "execution_count": 18,
   "id": "infinite-design",
   "metadata": {},
   "outputs": [
    {
     "data": {
      "text/plain": [
       "['age',\n",
       " 'sex',\n",
       " 'steroid',\n",
       " 'antivirals',\n",
       " 'fatigue',\n",
       " 'malaise',\n",
       " 'anorexia',\n",
       " 'liver_big',\n",
       " 'liver_firm',\n",
       " 'spleen_palpable',\n",
       " 'spiders',\n",
       " 'ascites',\n",
       " 'varices',\n",
       " 'bilirubin',\n",
       " 'alk_phosphate',\n",
       " 'sgot',\n",
       " 'albumin',\n",
       " 'protime',\n",
       " 'histology',\n",
       " 'class']"
      ]
     },
     "execution_count": 18,
     "metadata": {},
     "output_type": "execute_result"
    }
   ],
   "source": [
    "# check for all columns names\n",
    "new_data.columns"
   ]
  },
  {
   "cell_type": "code",
   "execution_count": 19,
   "id": "affiliated-deficit",
   "metadata": {},
   "outputs": [
    {
     "data": {
      "text/plain": [
       "[('age', 'string'),\n",
       " ('sex', 'string'),\n",
       " ('steroid', 'string'),\n",
       " ('antivirals', 'string'),\n",
       " ('fatigue', 'string'),\n",
       " ('malaise', 'string'),\n",
       " ('anorexia', 'string'),\n",
       " ('liver_big', 'string'),\n",
       " ('liver_firm', 'string'),\n",
       " ('spleen_palpable', 'string'),\n",
       " ('spiders', 'string'),\n",
       " ('ascites', 'string'),\n",
       " ('varices', 'string'),\n",
       " ('bilirubin', 'string'),\n",
       " ('alk_phosphate', 'string'),\n",
       " ('sgot', 'string'),\n",
       " ('albumin', 'string'),\n",
       " ('protime', 'string'),\n",
       " ('histology', 'string'),\n",
       " ('class', 'string')]"
      ]
     },
     "execution_count": 19,
     "metadata": {},
     "output_type": "execute_result"
    }
   ],
   "source": [
    "#check datatypes\n",
    "new_data.dtypes"
   ]
  },
  {
   "cell_type": "code",
   "execution_count": 20,
   "id": "preliminary-training",
   "metadata": {},
   "outputs": [
    {
     "name": "stdout",
     "output_type": "stream",
     "text": [
      "root\n",
      " |-- age: string (nullable = true)\n",
      " |-- sex: string (nullable = true)\n",
      " |-- steroid: string (nullable = true)\n",
      " |-- antivirals: string (nullable = true)\n",
      " |-- fatigue: string (nullable = true)\n",
      " |-- malaise: string (nullable = true)\n",
      " |-- anorexia: string (nullable = true)\n",
      " |-- liver_big: string (nullable = true)\n",
      " |-- liver_firm: string (nullable = true)\n",
      " |-- spleen_palpable: string (nullable = true)\n",
      " |-- spiders: string (nullable = true)\n",
      " |-- ascites: string (nullable = true)\n",
      " |-- varices: string (nullable = true)\n",
      " |-- bilirubin: string (nullable = true)\n",
      " |-- alk_phosphate: string (nullable = true)\n",
      " |-- sgot: string (nullable = true)\n",
      " |-- albumin: string (nullable = true)\n",
      " |-- protime: string (nullable = true)\n",
      " |-- histology: string (nullable = true)\n",
      " |-- class: string (nullable = true)\n",
      "\n"
     ]
    }
   ],
   "source": [
    "# get the schema\n",
    "new_data.printSchema()"
   ]
  },
  {
   "cell_type": "code",
   "execution_count": 21,
   "id": "distinct-seafood",
   "metadata": {},
   "outputs": [
    {
     "data": {
      "text/plain": [
       "155"
      ]
     },
     "execution_count": 21,
     "metadata": {},
     "output_type": "execute_result"
    }
   ],
   "source": [
    "new_data.count() # for rows"
   ]
  },
  {
   "cell_type": "code",
   "execution_count": 22,
   "id": "durable-trustee",
   "metadata": {},
   "outputs": [
    {
     "data": {
      "text/plain": [
       "20"
      ]
     },
     "execution_count": 22,
     "metadata": {},
     "output_type": "execute_result"
    }
   ],
   "source": [
    "len(new_data.columns) #for columns"
   ]
  },
  {
   "cell_type": "code",
   "execution_count": 24,
   "id": "incorporate-harvest",
   "metadata": {},
   "outputs": [
    {
     "name": "stdout",
     "output_type": "stream",
     "text": [
      "155 20\n"
     ]
    }
   ],
   "source": [
    "print(new_data.count(), len(new_data.columns))"
   ]
  },
  {
   "cell_type": "markdown",
   "id": "divided-measurement",
   "metadata": {},
   "source": [
    "#### Descriptive summary"
   ]
  },
  {
   "cell_type": "code",
   "execution_count": 25,
   "id": "measured-indian",
   "metadata": {},
   "outputs": [
    {
     "name": "stdout",
     "output_type": "stream",
     "text": [
      "+-------+------------------+------+-------+----------+-------+-------+--------+---------+----------+---------------+-------+-------+-------+------------------+------------------+-----------------+------------------+-----------------+---------+-----+\n",
      "|summary|               age|   sex|steroid|antivirals|fatigue|malaise|anorexia|liver_big|liver_firm|spleen_palpable|spiders|ascites|varices|         bilirubin|     alk_phosphate|             sgot|           albumin|          protime|histology|class|\n",
      "+-------+------------------+------+-------+----------+-------+-------+--------+---------+----------+---------------+-------+-------+-------+------------------+------------------+-----------------+------------------+-----------------+---------+-----+\n",
      "|  count|               155|   155|    154|       155|    154|    154|     154|      145|       144|            150|    150|    150|    150|               149|               126|              151|               139|               88|      155|  155|\n",
      "|   mean|              41.2|  null|   null|      null|   null|   null|    null|     null|      null|           null|   null|   null|   null|1.4275167785234895|105.32539682539682|85.89403973509934|3.8172661870503592|61.85227272727273|     null| null|\n",
      "| stddev|12.565878349773197|  null|   null|      null|   null|   null|    null|     null|      null|           null|   null|   null|   null|1.2121490330948559| 51.50810877756305|89.65088973850219|0.6515230826162131|22.87524374481145|     null| null|\n",
      "|    min|                20|female|  False|     False|  False|  False|   False|    False|     False|          False|  False|  False|  False|               0.3|               100|              100|               2.1|                0|    False|  die|\n",
      "|    max|                78|  male|   True|      True|   True|   True|    True|     True|      True|           True|   True|   True|   True|                 8|                96|               98|               6.4|               90|     True| live|\n",
      "+-------+------------------+------+-------+----------+-------+-------+--------+---------+----------+---------------+-------+-------+-------+------------------+------------------+-----------------+------------------+-----------------+---------+-----+\n",
      "\n"
     ]
    }
   ],
   "source": [
    "new_data.describe().show()"
   ]
  },
  {
   "cell_type": "code",
   "execution_count": 27,
   "id": "civil-glasgow",
   "metadata": {},
   "outputs": [
    {
     "name": "stdout",
     "output_type": "stream",
     "text": [
      "+-------+------------------+\n",
      "|summary|               age|\n",
      "+-------+------------------+\n",
      "|  count|               155|\n",
      "|   mean|              41.2|\n",
      "| stddev|12.565878349773197|\n",
      "|    min|                20|\n",
      "|    max|                78|\n",
      "+-------+------------------+\n",
      "\n"
     ]
    }
   ],
   "source": [
    "new_data.describe('age').show()"
   ]
  },
  {
   "cell_type": "code",
   "execution_count": 28,
   "id": "corresponding-night",
   "metadata": {},
   "outputs": [
    {
     "data": {
      "text/plain": [
       "['age',\n",
       " 'sex',\n",
       " 'steroid',\n",
       " 'antivirals',\n",
       " 'fatigue',\n",
       " 'malaise',\n",
       " 'anorexia',\n",
       " 'liver_big',\n",
       " 'liver_firm',\n",
       " 'spleen_palpable',\n",
       " 'spiders',\n",
       " 'ascites',\n",
       " 'varices',\n",
       " 'bilirubin',\n",
       " 'alk_phosphate',\n",
       " 'sgot',\n",
       " 'albumin',\n",
       " 'protime',\n",
       " 'histology',\n",
       " 'class']"
      ]
     },
     "execution_count": 28,
     "metadata": {},
     "output_type": "execute_result"
    }
   ],
   "source": [
    "# select a column\n",
    "new_data.columns"
   ]
  },
  {
   "cell_type": "code",
   "execution_count": 29,
   "id": "intended-process",
   "metadata": {},
   "outputs": [
    {
     "name": "stdout",
     "output_type": "stream",
     "text": [
      "+---+\n",
      "|age|\n",
      "+---+\n",
      "| 30|\n",
      "| 50|\n",
      "| 78|\n",
      "| 31|\n",
      "| 34|\n",
      "| 34|\n",
      "| 51|\n",
      "| 23|\n",
      "| 39|\n",
      "| 30|\n",
      "| 39|\n",
      "| 32|\n",
      "| 41|\n",
      "| 30|\n",
      "| 47|\n",
      "| 38|\n",
      "| 66|\n",
      "| 40|\n",
      "| 38|\n",
      "| 38|\n",
      "+---+\n",
      "only showing top 20 rows\n",
      "\n"
     ]
    }
   ],
   "source": [
    "new_data.select('age').show()"
   ]
  },
  {
   "cell_type": "code",
   "execution_count": 31,
   "id": "another-evanescence",
   "metadata": {},
   "outputs": [
    {
     "name": "stdout",
     "output_type": "stream",
     "text": [
      "+---+------+\n",
      "|age|   sex|\n",
      "+---+------+\n",
      "| 30|  male|\n",
      "| 50|female|\n",
      "| 78|female|\n",
      "| 31|female|\n",
      "| 34|female|\n",
      "+---+------+\n",
      "only showing top 5 rows\n",
      "\n"
     ]
    }
   ],
   "source": [
    "# select multiple columns\n",
    "new_data.select('age', 'sex').show(5)"
   ]
  },
  {
   "cell_type": "markdown",
   "id": "dominant-trainer",
   "metadata": {},
   "source": [
    "#### Conditions and Selections\n",
    "\n",
    "- dataframe.filter\n",
    "- dataframe.where"
   ]
  },
  {
   "cell_type": "code",
   "execution_count": 32,
   "id": "charitable-richardson",
   "metadata": {},
   "outputs": [
    {
     "name": "stdout",
     "output_type": "stream",
     "text": [
      "+---+------+-------+----------+-------+-------+--------+---------+----------+---------------+-------+-------+-------+---------+-------------+----+-------+-------+---------+-----+\n",
      "|age|   sex|steroid|antivirals|fatigue|malaise|anorexia|liver_big|liver_firm|spleen_palpable|spiders|ascites|varices|bilirubin|alk_phosphate|sgot|albumin|protime|histology|class|\n",
      "+---+------+-------+----------+-------+-------+--------+---------+----------+---------------+-------+-------+-------+---------+-------------+----+-------+-------+---------+-----+\n",
      "| 30|  male|  False|     False|  False|  False|   False|    False|     False|          False|  False|  False|  False|        1|           85|  18|      4|   null|    False| live|\n",
      "| 50|female|  False|     False|   True|  False|   False|    False|     False|          False|  False|  False|  False|      0.9|          135|  42|    3.5|   null|    False| live|\n",
      "| 78|female|   True|     False|   True|  False|   False|     True|     False|          False|  False|  False|  False|      0.7|           96|  32|      4|   null|    False| live|\n",
      "| 31|female|   null|      True|  False|  False|   False|     True|     False|          False|  False|  False|  False|      0.7|           46|  52|      4|     80|    False| live|\n",
      "| 34|female|   True|     False|  False|  False|   False|     True|     False|          False|  False|  False|  False|        1|         null| 200|      4|   null|    False| live|\n",
      "| 34|female|   True|     False|  False|  False|   False|     True|     False|          False|  False|  False|  False|      0.9|           95|  28|      4|     75|    False| live|\n",
      "| 51|female|  False|     False|   True|  False|    True|     True|     False|           True|   True|  False|  False|     null|         null|null|   null|   null|    False|  die|\n",
      "| 23|female|   True|     False|  False|  False|   False|     True|     False|          False|  False|  False|  False|        1|         null|null|   null|   null|    False| live|\n",
      "| 39|female|   True|     False|   True|  False|   False|     True|      True|          False|  False|  False|  False|      0.7|         null|  48|    4.4|   null|    False| live|\n",
      "| 30|female|   True|     False|  False|  False|   False|     True|     False|          False|  False|  False|  False|        1|         null| 120|    3.9|   null|    False| live|\n",
      "+---+------+-------+----------+-------+-------+--------+---------+----------+---------------+-------+-------+-------+---------+-------------+----+-------+-------+---------+-----+\n",
      "only showing top 10 rows\n",
      "\n"
     ]
    }
   ],
   "source": [
    "new_data.show(10)"
   ]
  },
  {
   "cell_type": "code",
   "execution_count": 36,
   "id": "intelligent-pharmacology",
   "metadata": {},
   "outputs": [
    {
     "name": "stdout",
     "output_type": "stream",
     "text": [
      "+---+------+-------+----------+-------+-------+--------+---------+----------+---------------+-------+-------+-------+---------+-------------+----+-------+-------+---------+-----+\n",
      "|age|   sex|steroid|antivirals|fatigue|malaise|anorexia|liver_big|liver_firm|spleen_palpable|spiders|ascites|varices|bilirubin|alk_phosphate|sgot|albumin|protime|histology|class|\n",
      "+---+------+-------+----------+-------+-------+--------+---------+----------+---------------+-------+-------+-------+---------+-------------+----+-------+-------+---------+-----+\n",
      "| 34|female|   True|     False|  False|  False|   False|     True|     False|          False|  False|  False|  False|        1|         null| 200|      4|   null|    False| live|\n",
      "| 34|female|   True|     False|  False|  False|   False|     True|     False|          False|  False|  False|  False|      0.9|           95|  28|      4|     75|    False| live|\n",
      "| 34|female|   True|     False|  False|  False|   False|     True|     False|          False|  False|  False|  False|     null|         null|  86|   null|   null|    False| live|\n",
      "| 34|female|  False|     False|   null|   null|    null|     null|      null|           null|   null|   null|   null|     null|         null|null|   null|   null|    False| live|\n",
      "| 34|female|  False|     False|   True|   True|   False|    False|      True|          False|   True|  False|  False|      2.8|          127| 182|   null|   null|    False|  die|\n",
      "| 34|  male|  False|      True|  False|  False|   False|     True|      True|          False|  False|  False|  False|      0.6|           30|  24|      4|     76|    False| live|\n",
      "| 34|female|  False|     False|   True|  False|   False|    False|      True|          False|   True|  False|  False|        1|           72|  46|    4.4|     57|    False| live|\n",
      "| 34|  male|   True|     False|   True|   True|    True|    False|      True|          False|   True|  False|  False|      0.7|           70|  24|    4.1|    100|     True| live|\n",
      "+---+------+-------+----------+-------+-------+--------+---------+----------+---------------+-------+-------+-------+---------+-------------+----+-------+-------+---------+-----+\n",
      "\n"
     ]
    }
   ],
   "source": [
    "#select who is only 34 years of age\n",
    "new_data.filter(new_data['age'] == 34).show()"
   ]
  },
  {
   "cell_type": "code",
   "execution_count": 37,
   "id": "miniature-festival",
   "metadata": {},
   "outputs": [
    {
     "name": "stdout",
     "output_type": "stream",
     "text": [
      "+---+------+-------+----------+-------+-------+--------+---------+----------+---------------+-------+-------+-------+---------+-------------+----+-------+-------+---------+-----+\n",
      "|age|   sex|steroid|antivirals|fatigue|malaise|anorexia|liver_big|liver_firm|spleen_palpable|spiders|ascites|varices|bilirubin|alk_phosphate|sgot|albumin|protime|histology|class|\n",
      "+---+------+-------+----------+-------+-------+--------+---------+----------+---------------+-------+-------+-------+---------+-------------+----+-------+-------+---------+-----+\n",
      "| 34|female|   True|     False|  False|  False|   False|     True|     False|          False|  False|  False|  False|        1|         null| 200|      4|   null|    False| live|\n",
      "| 34|female|   True|     False|  False|  False|   False|     True|     False|          False|  False|  False|  False|      0.9|           95|  28|      4|     75|    False| live|\n",
      "| 34|female|   True|     False|  False|  False|   False|     True|     False|          False|  False|  False|  False|     null|         null|  86|   null|   null|    False| live|\n",
      "+---+------+-------+----------+-------+-------+--------+---------+----------+---------------+-------+-------+-------+---------+-------------+----+-------+-------+---------+-----+\n",
      "only showing top 3 rows\n",
      "\n"
     ]
    }
   ],
   "source": [
    "#select who is only 34 years of age\n",
    "new_data.filter(new_data['age'] == 34).show(3)"
   ]
  },
  {
   "cell_type": "code",
   "execution_count": 38,
   "id": "scheduled-nothing",
   "metadata": {},
   "outputs": [
    {
     "name": "stdout",
     "output_type": "stream",
     "text": [
      "+---+------+-------+----------+-------+-------+--------+---------+----------+---------------+-------+-------+-------+---------+-------------+----+-------+-------+---------+-----+\n",
      "|age|   sex|steroid|antivirals|fatigue|malaise|anorexia|liver_big|liver_firm|spleen_palpable|spiders|ascites|varices|bilirubin|alk_phosphate|sgot|albumin|protime|histology|class|\n",
      "+---+------+-------+----------+-------+-------+--------+---------+----------+---------------+-------+-------+-------+---------+-------------+----+-------+-------+---------+-----+\n",
      "| 50|female|  False|     False|   True|  False|   False|    False|     False|          False|  False|  False|  False|      0.9|          135|  42|    3.5|   null|    False| live|\n",
      "| 78|female|   True|     False|   True|  False|   False|     True|     False|          False|  False|  False|  False|      0.7|           96|  32|      4|   null|    False| live|\n",
      "| 31|female|   null|      True|  False|  False|   False|     True|     False|          False|  False|  False|  False|      0.7|           46|  52|      4|     80|    False| live|\n",
      "| 34|female|   True|     False|  False|  False|   False|     True|     False|          False|  False|  False|  False|        1|         null| 200|      4|   null|    False| live|\n",
      "| 34|female|   True|     False|  False|  False|   False|     True|     False|          False|  False|  False|  False|      0.9|           95|  28|      4|     75|    False| live|\n",
      "+---+------+-------+----------+-------+-------+--------+---------+----------+---------------+-------+-------+-------+---------+-------------+----+-------+-------+---------+-----+\n",
      "only showing top 5 rows\n",
      "\n"
     ]
    }
   ],
   "source": [
    "#second method using where\n",
    "\n",
    "new_data.where(new_data['sex'] == 'female').show(5)"
   ]
  },
  {
   "cell_type": "code",
   "execution_count": 39,
   "id": "palestinian-pollution",
   "metadata": {},
   "outputs": [
    {
     "name": "stdout",
     "output_type": "stream",
     "text": [
      "+---+------+-----+\n",
      "|age|   sex|class|\n",
      "+---+------+-----+\n",
      "| 50|female| live|\n",
      "| 78|female| live|\n",
      "| 31|female| live|\n",
      "| 34|female| live|\n",
      "| 34|female| live|\n",
      "+---+------+-----+\n",
      "only showing top 5 rows\n",
      "\n"
     ]
    }
   ],
   "source": [
    "#second method using where\n",
    "\n",
    "new_data.where(new_data['sex'] == 'female').select('age', 'sex', 'class').show(5)"
   ]
  },
  {
   "cell_type": "code",
   "execution_count": 44,
   "id": "bibliographic-sudan",
   "metadata": {},
   "outputs": [
    {
     "name": "stdout",
     "output_type": "stream",
     "text": [
      "+---+------+-------+----------+-------+-------+--------+---------+----------+---------------+-------+-------+-------+---------+-------------+----+-------+-------+---------+-----+---------+\n",
      "|age|   sex|steroid|antivirals|fatigue|malaise|anorexia|liver_big|liver_firm|spleen_palpable|spiders|ascites|varices|bilirubin|alk_phosphate|sgot|albumin|protime|histology|class|age_by_10|\n",
      "+---+------+-------+----------+-------+-------+--------+---------+----------+---------------+-------+-------+-------+---------+-------------+----+-------+-------+---------+-----+---------+\n",
      "| 30|  male|  False|     False|  False|  False|   False|    False|     False|          False|  False|  False|  False|        1|           85|  18|      4|   null|    False| live|    150.0|\n",
      "| 50|female|  False|     False|   True|  False|   False|    False|     False|          False|  False|  False|  False|      0.9|          135|  42|    3.5|   null|    False| live|    250.0|\n",
      "| 78|female|   True|     False|   True|  False|   False|     True|     False|          False|  False|  False|  False|      0.7|           96|  32|      4|   null|    False| live|    390.0|\n",
      "| 31|female|   null|      True|  False|  False|   False|     True|     False|          False|  False|  False|  False|      0.7|           46|  52|      4|     80|    False| live|    155.0|\n",
      "| 34|female|   True|     False|  False|  False|   False|     True|     False|          False|  False|  False|  False|        1|         null| 200|      4|   null|    False| live|    170.0|\n",
      "+---+------+-------+----------+-------+-------+--------+---------+----------+---------------+-------+-------+-------+---------+-------------+----+-------+-------+---------+-----+---------+\n",
      "only showing top 5 rows\n",
      "\n"
     ]
    }
   ],
   "source": [
    "#how to add a column\n",
    "new_data.withColumn('age_by_10', new_data['age'] * 5).show(5)"
   ]
  },
  {
   "cell_type": "code",
   "execution_count": 43,
   "id": "continuing-north",
   "metadata": {},
   "outputs": [
    {
     "name": "stdout",
     "output_type": "stream",
     "text": [
      "+---+------+-------+----------+-------+-------+--------+---------+----------+---------------+-------+-------+-------+---------+-------------+----+-------+-------+---------+-----+\n",
      "|age|   sex|steroid|antivirals|fatigue|malaise|anorexia|liver_big|liver_firm|spleen_palpable|spiders|ascites|varices|bilirubin|alk_phosphate|sgot|albumin|protime|histology|class|\n",
      "+---+------+-------+----------+-------+-------+--------+---------+----------+---------------+-------+-------+-------+---------+-------------+----+-------+-------+---------+-----+\n",
      "| 30|  male|  False|     False|  False|  False|   False|    False|     False|          False|  False|  False|  False|        1|           85|  18|      4|   null|    False| live|\n",
      "| 50|female|  False|     False|   True|  False|   False|    False|     False|          False|  False|  False|  False|      0.9|          135|  42|    3.5|   null|    False| live|\n",
      "| 78|female|   True|     False|   True|  False|   False|     True|     False|          False|  False|  False|  False|      0.7|           96|  32|      4|   null|    False| live|\n",
      "| 31|female|   null|      True|  False|  False|   False|     True|     False|          False|  False|  False|  False|      0.7|           46|  52|      4|     80|    False| live|\n",
      "| 34|female|   True|     False|  False|  False|   False|     True|     False|          False|  False|  False|  False|        1|         null| 200|      4|   null|    False| live|\n",
      "+---+------+-------+----------+-------+-------+--------+---------+----------+---------------+-------+-------+-------+---------+-------------+----+-------+-------+---------+-----+\n",
      "only showing top 5 rows\n",
      "\n"
     ]
    }
   ],
   "source": [
    "#drop a column\n",
    "new_data.show(5)"
   ]
  },
  {
   "cell_type": "code",
   "execution_count": 45,
   "id": "correct-method",
   "metadata": {},
   "outputs": [],
   "source": [
    "final_data = new_data.drop('age_by_10')"
   ]
  },
  {
   "cell_type": "code",
   "execution_count": 46,
   "id": "abandoned-indonesia",
   "metadata": {},
   "outputs": [
    {
     "data": {
      "text/plain": [
       "['age',\n",
       " 'sex',\n",
       " 'steroid',\n",
       " 'antivirals',\n",
       " 'fatigue',\n",
       " 'malaise',\n",
       " 'anorexia',\n",
       " 'liver_big',\n",
       " 'liver_firm',\n",
       " 'spleen_palpable',\n",
       " 'spiders',\n",
       " 'ascites',\n",
       " 'varices',\n",
       " 'bilirubin',\n",
       " 'alk_phosphate',\n",
       " 'sgot',\n",
       " 'albumin',\n",
       " 'protime',\n",
       " 'histology',\n",
       " 'class']"
      ]
     },
     "execution_count": 46,
     "metadata": {},
     "output_type": "execute_result"
    }
   ],
   "source": [
    "final_data.columns"
   ]
  },
  {
   "cell_type": "code",
   "execution_count": null,
   "id": "opened-albuquerque",
   "metadata": {},
   "outputs": [],
   "source": []
  }
 ],
 "metadata": {
  "kernelspec": {
   "display_name": "Python 3",
   "language": "python",
   "name": "python3"
  },
  "language_info": {
   "codemirror_mode": {
    "name": "ipython",
    "version": 3
   },
   "file_extension": ".py",
   "mimetype": "text/x-python",
   "name": "python",
   "nbconvert_exporter": "python",
   "pygments_lexer": "ipython3",
   "version": "3.8.5"
  }
 },
 "nbformat": 4,
 "nbformat_minor": 5
}
